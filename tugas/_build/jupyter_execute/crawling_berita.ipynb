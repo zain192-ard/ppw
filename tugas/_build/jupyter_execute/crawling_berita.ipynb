{
 "cells": [
  {
   "cell_type": "markdown",
   "id": "66b6b4e5",
   "metadata": {},
   "source": [
    "## Crawling Berita"
   ]
  },
  {
   "cell_type": "code",
   "execution_count": 1,
   "id": "f058cee4",
   "metadata": {},
   "outputs": [
    {
     "name": "stdout",
     "output_type": "stream",
     "text": [
      "Scraping halaman 1...\n"
     ]
    },
    {
     "name": "stdout",
     "output_type": "stream",
     "text": [
      "[1] Pakai Seragam Dinas, Ahmad Dofiri Tiba di Istana Jelang Pelantikan\n"
     ]
    },
    {
     "name": "stdout",
     "output_type": "stream",
     "text": [
      "[2] Alvi Pemutilasi Pacar Diamuk dan Diumpat Warga Saat Rekonstruksi di Kosan\n"
     ]
    },
    {
     "name": "stdout",
     "output_type": "stream",
     "text": [
      "[3] Truk Seruduk 2 Angkot Lagi Ngetem di Bogor, 3 Orang Terluka\n"
     ]
    },
    {
     "name": "stdout",
     "output_type": "stream",
     "text": [
      "[4] MK Gelar Sidang Putusan 5 Gugatan UU TNI Hari Ini\n"
     ]
    },
    {
     "name": "stdout",
     "output_type": "stream",
     "text": [
      "[5] Gelar Razia, Pemprov Banten Temukan 86 Kendaraan ASN Nunggak Pajak\n"
     ]
    },
    {
     "name": "stdout",
     "output_type": "stream",
     "text": [
      "[6] Bareskrim Usul Ada LO Polri di LPSK demi Perkuat Perlindungan Saksi\n"
     ]
    },
    {
     "name": "stdout",
     "output_type": "stream",
     "text": [
      "[7] Pemobil di Pekanbaru Jadi Tersangka Usai Pukul Pejalan Kaki-Bikin Bayi Jatuh\n"
     ]
    },
    {
     "name": "stdout",
     "output_type": "stream",
     "text": [
      "[8] Pimpinan Komisi I DPR Ungkap Djamari Chaniago Akan Jadi Menko Polkam\n"
     ]
    },
    {
     "name": "stdout",
     "output_type": "stream",
     "text": [
      "[9] China Kumpulkan Sekutunya, Bentuk Tatanan Global Saingi AS\n"
     ]
    },
    {
     "name": "stdout",
     "output_type": "stream",
     "text": [
      "[10] Wamentrans Sebut Pengiriman Transmigran Tergantung Permintaan Pemda\n"
     ]
    },
    {
     "name": "stdout",
     "output_type": "stream",
     "text": [
      "[11] Ini Sosok Ken Otak Penculikan Kacab Bank demi Bobol Rekening Dormant\n"
     ]
    },
    {
     "name": "stdout",
     "output_type": "stream",
     "text": [
      "[12] Berkas Sidang Etik 5 Anggota Brimob Pelindas Affan Masih Dilengkapi\n"
     ]
    },
    {
     "name": "stdout",
     "output_type": "stream",
     "text": [
      "[13] Filipina vs China di Laut China Selatan, 1 Awak Luka Kena Meriam Air\n"
     ]
    },
    {
     "name": "stdout",
     "output_type": "stream",
     "text": [
      "[14] Polres Meranti Telah Distribusikan 115 Ton Beras Selama Sebulan GPM\n"
     ]
    },
    {
     "name": "stdout",
     "output_type": "stream",
     "text": [
      "[15] BNPT: Keberagaman Harus Dijaga Sebagai Perekat Bangsa\n"
     ]
    },
    {
     "name": "stdout",
     "output_type": "stream",
     "text": [
      "[16] RUU Perlindungan Saksi Korban, Kejagung Usul Korban Tak Jadi Alat Bukti\n"
     ]
    },
    {
     "name": "stdout",
     "output_type": "stream",
     "text": [
      "[17] Rapat Bareng Kajati Sulsel, Legislator Tanya Kasus Uang Palsu UIN Makassar\n"
     ]
    },
    {
     "name": "stdout",
     "output_type": "stream",
     "text": [
      "[18] Antusiasnya Ibu-ibu Borong Sembako di Gerakan Pangan Murah Polri\n"
     ]
    },
    {
     "name": "stdout",
     "output_type": "stream",
     "text": [
      "[19] Ibas: Maulid Nabi Inspirasi Peradaban Akhlak dan Persatuan\n"
     ]
    },
    {
     "name": "stdout",
     "output_type": "stream",
     "text": [
      "Scraping halaman 2...\n"
     ]
    },
    {
     "name": "stdout",
     "output_type": "stream",
     "text": [
      "[20] Pencuri Kabel Grounding Whoosh Ditangkap Saat Beraksi\n"
     ]
    },
    {
     "name": "stdout",
     "output_type": "stream",
     "text": [
      "[21] Pekan Tuli Internasional 2025: Tema dan Cara Merayakannya\n"
     ]
    },
    {
     "name": "stdout",
     "output_type": "stream",
     "text": [
      "[22] MK Tak Terima Gugatan PSU Pilbup Barito Utara, Ini Alasannya\n"
     ]
    },
    {
     "name": "stdout",
     "output_type": "stream",
     "text": [
      "[23] Waskita Karya Kembali Masuk Top 50 Emiten dalam The 16th IICD CG Award 2025\n"
     ]
    },
    {
     "ename": "KeyboardInterrupt",
     "evalue": "",
     "output_type": "error",
     "traceback": [
      "\u001b[31m---------------------------------------------------------------------------\u001b[39m",
      "\u001b[31mKeyboardInterrupt\u001b[39m                         Traceback (most recent call last)",
      "\u001b[36mCell\u001b[39m\u001b[36m \u001b[39m\u001b[32mIn[1]\u001b[39m\u001b[32m, line 88\u001b[39m\n\u001b[32m     85\u001b[39m     \u001b[38;5;28;01mreturn\u001b[39;00m all_news\n\u001b[32m     87\u001b[39m \u001b[38;5;66;03m# Jalankan scraping\u001b[39;00m\n\u001b[32m---> \u001b[39m\u001b[32m88\u001b[39m news_data = \u001b[43mscrape_detik\u001b[49m\u001b[43m(\u001b[49m\u001b[43mlimit\u001b[49m\u001b[43m=\u001b[49m\u001b[32;43m100\u001b[39;49m\u001b[43m)\u001b[49m\n\u001b[32m     90\u001b[39m \u001b[38;5;66;03m# Simpan ke CSV\u001b[39;00m\n\u001b[32m     91\u001b[39m df = pd.DataFrame(news_data)\n",
      "\u001b[36mCell\u001b[39m\u001b[36m \u001b[39m\u001b[32mIn[1]\u001b[39m\u001b[32m, line 81\u001b[39m, in \u001b[36mscrape_detik\u001b[39m\u001b[34m(limit)\u001b[39m\n\u001b[32m     79\u001b[39m         \u001b[38;5;28mprint\u001b[39m(\u001b[33mf\u001b[39m\u001b[33m\"\u001b[39m\u001b[33m[\u001b[39m\u001b[38;5;132;01m{\u001b[39;00mid_berita\u001b[38;5;132;01m}\u001b[39;00m\u001b[33m] \u001b[39m\u001b[38;5;132;01m{\u001b[39;00mtitle\u001b[38;5;132;01m}\u001b[39;00m\u001b[33m\"\u001b[39m)\n\u001b[32m     80\u001b[39m         id_berita += \u001b[32m1\u001b[39m\n\u001b[32m---> \u001b[39m\u001b[32m81\u001b[39m         \u001b[43mtime\u001b[49m\u001b[43m.\u001b[49m\u001b[43msleep\u001b[49m\u001b[43m(\u001b[49m\u001b[32;43m1\u001b[39;49m\u001b[43m)\u001b[49m  \u001b[38;5;66;03m# Hindari pemblokiran server\u001b[39;00m\n\u001b[32m     83\u001b[39m     page += \u001b[32m1\u001b[39m\n\u001b[32m     85\u001b[39m \u001b[38;5;28;01mreturn\u001b[39;00m all_news\n",
      "\u001b[31mKeyboardInterrupt\u001b[39m: "
     ]
    }
   ],
   "source": [
    "import requests\n",
    "from bs4 import BeautifulSoup\n",
    "import pandas as pd\n",
    "import time\n",
    "\n",
    "# URL dasar situs berita Detik\n",
    "base_url = \"https://news.detik.com\"\n",
    "\n",
    "def get_news_detail(link):\n",
    "    \"\"\"Ambil isi berita dari halaman detail\"\"\"\n",
    "    try:\n",
    "        res = requests.get(link, timeout=10)\n",
    "        res.raise_for_status()\n",
    "        soup = BeautifulSoup(res.text, 'html.parser')\n",
    "\n",
    "        # Ambil isi paragraf berita\n",
    "        body = soup.find('div', class_='detail__body-text itp_bodycontent')\n",
    "        if not body:\n",
    "            return \"\", \"\"\n",
    "        paragraphs = body.find_all('p')\n",
    "        content = \"\\n\".join([p.get_text(strip=True) for p in paragraphs])\n",
    "\n",
    "        # Ambil kategori berita (nama rubrik)\n",
    "        breadcrumb = soup.find('div', class_='breadcrumb')\n",
    "        category = breadcrumb.find_all('a')[1].text.strip() if breadcrumb and len(breadcrumb.find_all('a')) > 1 else \"Tidak diketahui\"\n",
    "\n",
    "        return content, category\n",
    "    except Exception as e:\n",
    "        print(f\"Gagal ambil detail: {link}, error: {e}\")\n",
    "        return \"\", \"Tidak diketahui\"\n",
    "\n",
    "def scrape_detik(limit=50):\n",
    "    \"\"\"Scraping berita Detik dengan batas tertentu\"\"\"\n",
    "    all_news = []\n",
    "    page = 1\n",
    "    id_berita = 1\n",
    "\n",
    "    while len(all_news) < limit:\n",
    "        url = f\"{base_url}/indeks?page={page}\"\n",
    "        print(f\"Scraping halaman {page}...\")\n",
    "        try:\n",
    "            r = requests.get(url, timeout=10)\n",
    "            r.raise_for_status()\n",
    "        except Exception as e:\n",
    "            print(f\"Gagal ambil halaman {page}: {e}\")\n",
    "            break\n",
    "\n",
    "        soup = BeautifulSoup(r.text, 'html.parser')\n",
    "        articles = soup.find_all('a', class_='media__link')\n",
    "\n",
    "        if not articles:\n",
    "            print(\"Tidak ada artikel ditemukan, berhenti.\")\n",
    "            break\n",
    "\n",
    "        for a in articles:\n",
    "            if len(all_news) >= limit:\n",
    "                break\n",
    "\n",
    "            link = a.get('href')\n",
    "            title = a.get_text(strip=True)\n",
    "\n",
    "            if link and link.startswith('/'):\n",
    "                link = base_url + link\n",
    "\n",
    "            if not link or not title:\n",
    "                continue\n",
    "\n",
    "            isi, kategori = get_news_detail(link)\n",
    "            if not isi:\n",
    "                continue\n",
    "\n",
    "            all_news.append({\n",
    "                'idberita': id_berita,\n",
    "                'judul_berita': title,\n",
    "                'isi_berita': isi,\n",
    "                'kategori_berita': kategori,\n",
    "                'url': link\n",
    "            })\n",
    "            print(f\"[{id_berita}] {title}\")\n",
    "            id_berita += 1\n",
    "            time.sleep(1)  # Hindari pemblokiran server\n",
    "\n",
    "        page += 1\n",
    "\n",
    "    return all_news\n",
    "\n",
    "# Jalankan scraping\n",
    "news_data = scrape_detik(limit=100)\n",
    "\n",
    "# Simpan ke CSV\n",
    "df = pd.DataFrame(news_data)\n",
    "df.to_csv(\"berita_detik.csv\", index=False, encoding=\"utf-8-sig\")\n",
    "print(\"Berhasil menyimpan ke berita_detik.csv\")\n"
   ]
  },
  {
   "cell_type": "code",
   "execution_count": 2,
   "id": "663ef602",
   "metadata": {},
   "outputs": [
    {
     "name": "stdout",
     "output_type": "stream",
     "text": [
      "=== Contoh Data Hasil Crawling ===\n",
      "   idberita                                       judul_berita  \\\n",
      "0         1  Rudy Tanoesoedibjo Melawan Usai Jadi Tersangka...   \n",
      "1         2  Netanyahu Desak Qatar Usir Hamas: Jika Tidak, ...   \n",
      "2         3  Identitas Palsu Sopir Bank Pembawa Kabur Rp 10...   \n",
      "3         4  Bongkar Jagal Anjing, Polda Riau Dibanjiri Kar...   \n",
      "4         5  Benny Demokrat: Koalisi Gemuk Tak Harus Buat D...   \n",
      "5         6  TNI Bakal Tindak Tegas Prajurit Diduga Terliba...   \n",
      "6         7  Ditekan Pemerintah, Kaum Feminis China Teruska...   \n",
      "7         8  Brimob Pemukul Staf KLH di Serang Disanksi Tun...   \n",
      "8         9  Info Pencairan KJP Plus 2025 Tahap 2 Bulan Sep...   \n",
      "9        10  Putra Mahkota Arab Saudi Tegaskan Gaza Milik P...   \n",
      "\n",
      "                                          isi_berita  kategori_berita  \\\n",
      "0  Komisaris Utama PT Dosni Roha Logistik,Bambang...  Tidak diketahui   \n",
      "1  Perdana Menteri (PM) IsraelBenjamin Netanyahum...  Tidak diketahui   \n",
      "2  Sopir bank,Anggun Tyas, yang membawa kabur uan...  Tidak diketahui   \n",
      "3  Kepolisian Daerah (Polda) Riau melalui Polrest...  Tidak diketahui   \n",
      "4  Anggota Komisi III DPR RI, Benny K Harman, men...  Tidak diketahui   \n",
      "5  Oknum TNI AD berinisial F diduga terlibat dala...  Tidak diketahui   \n",
      "6  Menjelang Hari Perempuan Internasional di tahu...  Tidak diketahui   \n",
      "7  Polda Banten telah menggelar sidang etik dan m...  Tidak diketahui   \n",
      "8  Pemprov DKI Jakarta mengumumkan pencairanKJP P...  Tidak diketahui   \n",
      "9  Putra Mahkota Arab Saudi, Pangeran Mohammed bi...  Tidak diketahui   \n",
      "\n",
      "                                                 url  \n",
      "0  https://news.detik.com/berita/d-8106716/rudy-t...  \n",
      "1  https://news.detik.com/internasional/d-8106715...  \n",
      "2  https://news.detik.com/berita/d-8106703/identi...  \n",
      "3  https://news.detik.com/melindungi-tuah-marwah/...  \n",
      "4  https://news.detik.com/berita/d-8106679/benny-...  \n",
      "5  https://news.detik.com/berita/d-8106664/tni-ba...  \n",
      "6  https://news.detik.com/dw/d-8106653/ditekan-pe...  \n",
      "7  https://news.detik.com/berita/d-8106640/brimob...  \n",
      "8  https://news.detik.com/berita/d-8106632/info-p...  \n",
      "9  https://news.detik.com/internasional/d-8106629...  \n"
     ]
    },
    {
     "data": {
      "text/html": [
       "<div>\n",
       "<style scoped>\n",
       "    .dataframe tbody tr th:only-of-type {\n",
       "        vertical-align: middle;\n",
       "    }\n",
       "\n",
       "    .dataframe tbody tr th {\n",
       "        vertical-align: top;\n",
       "    }\n",
       "\n",
       "    .dataframe thead th {\n",
       "        text-align: right;\n",
       "    }\n",
       "</style>\n",
       "<table border=\"1\" class=\"dataframe\">\n",
       "  <thead>\n",
       "    <tr style=\"text-align: right;\">\n",
       "      <th></th>\n",
       "      <th>idberita</th>\n",
       "      <th>judul_berita</th>\n",
       "      <th>isi_berita</th>\n",
       "      <th>kategori_berita</th>\n",
       "      <th>url</th>\n",
       "    </tr>\n",
       "  </thead>\n",
       "  <tbody>\n",
       "    <tr>\n",
       "      <th>0</th>\n",
       "      <td>1</td>\n",
       "      <td>Rudy Tanoesoedibjo Melawan Usai Jadi Tersangka...</td>\n",
       "      <td>Komisaris Utama PT Dosni Roha Logistik,Bambang...</td>\n",
       "      <td>Tidak diketahui</td>\n",
       "      <td>https://news.detik.com/berita/d-8106716/rudy-t...</td>\n",
       "    </tr>\n",
       "    <tr>\n",
       "      <th>1</th>\n",
       "      <td>2</td>\n",
       "      <td>Netanyahu Desak Qatar Usir Hamas: Jika Tidak, ...</td>\n",
       "      <td>Perdana Menteri (PM) IsraelBenjamin Netanyahum...</td>\n",
       "      <td>Tidak diketahui</td>\n",
       "      <td>https://news.detik.com/internasional/d-8106715...</td>\n",
       "    </tr>\n",
       "    <tr>\n",
       "      <th>2</th>\n",
       "      <td>3</td>\n",
       "      <td>Identitas Palsu Sopir Bank Pembawa Kabur Rp 10...</td>\n",
       "      <td>Sopir bank,Anggun Tyas, yang membawa kabur uan...</td>\n",
       "      <td>Tidak diketahui</td>\n",
       "      <td>https://news.detik.com/berita/d-8106703/identi...</td>\n",
       "    </tr>\n",
       "    <tr>\n",
       "      <th>3</th>\n",
       "      <td>4</td>\n",
       "      <td>Bongkar Jagal Anjing, Polda Riau Dibanjiri Kar...</td>\n",
       "      <td>Kepolisian Daerah (Polda) Riau melalui Polrest...</td>\n",
       "      <td>Tidak diketahui</td>\n",
       "      <td>https://news.detik.com/melindungi-tuah-marwah/...</td>\n",
       "    </tr>\n",
       "    <tr>\n",
       "      <th>4</th>\n",
       "      <td>5</td>\n",
       "      <td>Benny Demokrat: Koalisi Gemuk Tak Harus Buat D...</td>\n",
       "      <td>Anggota Komisi III DPR RI, Benny K Harman, men...</td>\n",
       "      <td>Tidak diketahui</td>\n",
       "      <td>https://news.detik.com/berita/d-8106679/benny-...</td>\n",
       "    </tr>\n",
       "  </tbody>\n",
       "</table>\n",
       "</div>"
      ],
      "text/plain": [
       "   idberita                                       judul_berita  \\\n",
       "0         1  Rudy Tanoesoedibjo Melawan Usai Jadi Tersangka...   \n",
       "1         2  Netanyahu Desak Qatar Usir Hamas: Jika Tidak, ...   \n",
       "2         3  Identitas Palsu Sopir Bank Pembawa Kabur Rp 10...   \n",
       "3         4  Bongkar Jagal Anjing, Polda Riau Dibanjiri Kar...   \n",
       "4         5  Benny Demokrat: Koalisi Gemuk Tak Harus Buat D...   \n",
       "\n",
       "                                          isi_berita  kategori_berita  \\\n",
       "0  Komisaris Utama PT Dosni Roha Logistik,Bambang...  Tidak diketahui   \n",
       "1  Perdana Menteri (PM) IsraelBenjamin Netanyahum...  Tidak diketahui   \n",
       "2  Sopir bank,Anggun Tyas, yang membawa kabur uan...  Tidak diketahui   \n",
       "3  Kepolisian Daerah (Polda) Riau melalui Polrest...  Tidak diketahui   \n",
       "4  Anggota Komisi III DPR RI, Benny K Harman, men...  Tidak diketahui   \n",
       "\n",
       "                                                 url  \n",
       "0  https://news.detik.com/berita/d-8106716/rudy-t...  \n",
       "1  https://news.detik.com/internasional/d-8106715...  \n",
       "2  https://news.detik.com/berita/d-8106703/identi...  \n",
       "3  https://news.detik.com/melindungi-tuah-marwah/...  \n",
       "4  https://news.detik.com/berita/d-8106679/benny-...  "
      ]
     },
     "execution_count": 2,
     "metadata": {},
     "output_type": "execute_result"
    }
   ],
   "source": [
    "# === BAGIAN 2: Membaca & Menampilkan CSV ===\n",
    "import pandas as pd\n",
    "\n",
    "df = pd.read_csv(\"berita_detik.csv\")\n",
    "print(\"=== Contoh Data Hasil Crawling ===\")\n",
    "print(df.head(10))  # tampilkan 10 berita pertama\n",
    "\n",
    "# Jika dijalankan di Jupyter Notebook, bisa menampilkan tabel interaktif:\n",
    "df.head()\n"
   ]
  }
 ],
 "metadata": {
  "kernelspec": {
   "display_name": "Python 3",
   "language": "python",
   "name": "python3"
  },
  "language_info": {
   "codemirror_mode": {
    "name": "ipython",
    "version": 3
   },
   "file_extension": ".py",
   "mimetype": "text/x-python",
   "name": "python",
   "nbconvert_exporter": "python",
   "pygments_lexer": "ipython3",
   "version": "3.12.1"
  }
 },
 "nbformat": 4,
 "nbformat_minor": 5
}