{
 "cells": [
  {
   "cell_type": "markdown",
   "id": "7a8478c9",
   "metadata": {},
   "source": [
    "# Link Graph Scraping"
   ]
  },
  {
   "cell_type": "code",
   "execution_count": 1,
   "id": "3dfd86fd",
   "metadata": {},
   "outputs": [],
   "source": [
    "import requests\n",
    "from bs4 import BeautifulSoup\n",
    "import pandas as pd"
   ]
  },
  {
   "cell_type": "code",
   "execution_count": 2,
   "id": "0d0bab2c",
   "metadata": {},
   "outputs": [],
   "source": [
    "BASE_URL = \"https://pta.trunojoyo.ac.id\"\n",
    "START_URL = \"https://pta.trunojoyo.ac.id/c_search/byprod/7\" # Manajemen\n",
    "headers = {\"User-Agent\": \"Mozilla/5.0\"}"
   ]
  },
  {
   "cell_type": "code",
   "execution_count": 3,
   "id": "7ed415e1",
   "metadata": {},
   "outputs": [
    {
     "name": "stdout",
     "output_type": "stream",
     "text": [
      "Crawling: https://pta.trunojoyo.ac.id/c_search/byprod/7\n"
     ]
    },
    {
     "name": "stdout",
     "output_type": "stream",
     "text": [
      "Crawling: https://pta.trunojoyo.ac.id/c_search/byprod/2\n"
     ]
    },
    {
     "name": "stdout",
     "output_type": "stream",
     "text": [
      "Crawling: https://pta.trunojoyo.ac.id/c_search/byprod/32\n"
     ]
    },
    {
     "name": "stdout",
     "output_type": "stream",
     "text": [
      "Crawling: https://pta.trunojoyo.ac.id/c_search/byfac/6\n"
     ]
    },
    {
     "name": "stdout",
     "output_type": "stream",
     "text": [
      "Crawling: https://pta.trunojoyo.ac.id/c_template/\n"
     ]
    },
    {
     "name": "stdout",
     "output_type": "stream",
     "text": [
      "Crawling: https://pta.trunojoyo.ac.id/c_search/byfac/3\n"
     ]
    },
    {
     "name": "stdout",
     "output_type": "stream",
     "text": [
      "Crawling: https://pta.trunojoyo.ac.id/c_search/byprod/6\n"
     ]
    },
    {
     "name": "stdout",
     "output_type": "stream",
     "text": [
      "Crawling: https://pta.trunojoyo.ac.id/c_search/byprod/22\n"
     ]
    },
    {
     "name": "stdout",
     "output_type": "stream",
     "text": [
      "Crawling: https://pta.trunojoyo.ac.id/c_search/byprod/5\n"
     ]
    },
    {
     "name": "stdout",
     "output_type": "stream",
     "text": [
      "Crawling: https://pta.trunojoyo.ac.id/c_search/byprod/31\n"
     ]
    }
   ],
   "source": [
    "def get_internal_links(url):\n",
    "    \"\"\"Ambil semua link internal dari satu halaman\"\"\"\n",
    "    try:\n",
    "        r = requests.get(url, headers=headers, timeout=10)\n",
    "        r.raise_for_status()\n",
    "        soup = BeautifulSoup(r.text, \"html.parser\")\n",
    "        links = []\n",
    "        for a in soup.find_all(\"a\", href=True):\n",
    "            href = a[\"href\"]\n",
    "            if href.startswith(\"/\") or href.startswith(BASE_URL):\n",
    "                if not href.startswith(\"javascript\"):\n",
    "                    if href.startswith(\"/\"):\n",
    "                        href = BASE_URL + href\n",
    "                    links.append(href.split(\"#\")[0])\n",
    "        return list(set(links))\n",
    "    except Exception as e:\n",
    "        print(f\"Error akses {url}: {e}\")\n",
    "        return []\n",
    "\n",
    "def crawl_graph(start_url, max_pages=20):\n",
    "    visited = set()\n",
    "    to_visit = [start_url]\n",
    "    edges = []\n",
    "\n",
    "    while to_visit and len(visited) < max_pages:\n",
    "        current = to_visit.pop(0)\n",
    "        if current in visited:\n",
    "            continue\n",
    "        visited.add(current)\n",
    "        print(f\"Crawling: {current}\")\n",
    "        \n",
    "        links = get_internal_links(current)\n",
    "        for link in links:\n",
    "            edges.append({\"source\": current, \"target\": link})\n",
    "            if link not in visited and link not in to_visit:\n",
    "                to_visit.append(link)\n",
    "    \n",
    "    return edges\n",
    "\n",
    "# Jalankan crawler graph\n",
    "edges = crawl_graph(START_URL, max_pages=10)\n",
    "\n",
    "# Simpan ke DataFrame\n",
    "df = pd.DataFrame(edges)\n",
    "df.to_excel(\"pta_graph.xlsx\", index=False)"
   ]
  },
  {
   "cell_type": "code",
   "execution_count": 4,
   "id": "b2e83340",
   "metadata": {},
   "outputs": [
    {
     "data": {
      "text/html": [
       "<div>\n",
       "<style scoped>\n",
       "    .dataframe tbody tr th:only-of-type {\n",
       "        vertical-align: middle;\n",
       "    }\n",
       "\n",
       "    .dataframe tbody tr th {\n",
       "        vertical-align: top;\n",
       "    }\n",
       "\n",
       "    .dataframe thead th {\n",
       "        text-align: right;\n",
       "    }\n",
       "</style>\n",
       "<table border=\"1\" class=\"dataframe\">\n",
       "  <thead>\n",
       "    <tr style=\"text-align: right;\">\n",
       "      <th></th>\n",
       "      <th>source</th>\n",
       "      <th>target</th>\n",
       "    </tr>\n",
       "  </thead>\n",
       "  <tbody>\n",
       "    <tr>\n",
       "      <th>0</th>\n",
       "      <td>https://pta.trunojoyo.ac.id/c_search/byprod/7</td>\n",
       "      <td>https://pta.trunojoyo.ac.id/c_search/byprod/2</td>\n",
       "    </tr>\n",
       "    <tr>\n",
       "      <th>1</th>\n",
       "      <td>https://pta.trunojoyo.ac.id/c_search/byprod/7</td>\n",
       "      <td>https://pta.trunojoyo.ac.id/c_search/byprod/32</td>\n",
       "    </tr>\n",
       "    <tr>\n",
       "      <th>2</th>\n",
       "      <td>https://pta.trunojoyo.ac.id/c_search/byprod/7</td>\n",
       "      <td>https://pta.trunojoyo.ac.id/c_search/byfac/6</td>\n",
       "    </tr>\n",
       "    <tr>\n",
       "      <th>3</th>\n",
       "      <td>https://pta.trunojoyo.ac.id/c_search/byprod/7</td>\n",
       "      <td>https://pta.trunojoyo.ac.id/c_template/</td>\n",
       "    </tr>\n",
       "    <tr>\n",
       "      <th>4</th>\n",
       "      <td>https://pta.trunojoyo.ac.id/c_search/byprod/7</td>\n",
       "      <td>https://pta.trunojoyo.ac.id/c_search/byprod/7</td>\n",
       "    </tr>\n",
       "    <tr>\n",
       "      <th>...</th>\n",
       "      <td>...</td>\n",
       "      <td>...</td>\n",
       "    </tr>\n",
       "    <tr>\n",
       "      <th>592</th>\n",
       "      <td>https://pta.trunojoyo.ac.id/c_search/byprod/31</td>\n",
       "      <td>https://pta.trunojoyo.ac.id/c_search/byprod/28</td>\n",
       "    </tr>\n",
       "    <tr>\n",
       "      <th>593</th>\n",
       "      <td>https://pta.trunojoyo.ac.id/c_search/byprod/31</td>\n",
       "      <td>https://pta.trunojoyo.ac.id/c_contact/</td>\n",
       "    </tr>\n",
       "    <tr>\n",
       "      <th>594</th>\n",
       "      <td>https://pta.trunojoyo.ac.id/c_search/byprod/31</td>\n",
       "      <td>https://pta.trunojoyo.ac.id/c_search/byprod/35</td>\n",
       "    </tr>\n",
       "    <tr>\n",
       "      <th>595</th>\n",
       "      <td>https://pta.trunojoyo.ac.id/c_search/byprod/31</td>\n",
       "      <td>https://pta.trunojoyo.ac.id/c_search/byfac/1</td>\n",
       "    </tr>\n",
       "    <tr>\n",
       "      <th>596</th>\n",
       "      <td>https://pta.trunojoyo.ac.id/c_search/byprod/31</td>\n",
       "      <td>https://pta.trunojoyo.ac.id/c_search/byprod/1</td>\n",
       "    </tr>\n",
       "  </tbody>\n",
       "</table>\n",
       "<p>597 rows × 2 columns</p>\n",
       "</div>"
      ],
      "text/plain": [
       "                                             source  \\\n",
       "0     https://pta.trunojoyo.ac.id/c_search/byprod/7   \n",
       "1     https://pta.trunojoyo.ac.id/c_search/byprod/7   \n",
       "2     https://pta.trunojoyo.ac.id/c_search/byprod/7   \n",
       "3     https://pta.trunojoyo.ac.id/c_search/byprod/7   \n",
       "4     https://pta.trunojoyo.ac.id/c_search/byprod/7   \n",
       "..                                              ...   \n",
       "592  https://pta.trunojoyo.ac.id/c_search/byprod/31   \n",
       "593  https://pta.trunojoyo.ac.id/c_search/byprod/31   \n",
       "594  https://pta.trunojoyo.ac.id/c_search/byprod/31   \n",
       "595  https://pta.trunojoyo.ac.id/c_search/byprod/31   \n",
       "596  https://pta.trunojoyo.ac.id/c_search/byprod/31   \n",
       "\n",
       "                                             target  \n",
       "0     https://pta.trunojoyo.ac.id/c_search/byprod/2  \n",
       "1    https://pta.trunojoyo.ac.id/c_search/byprod/32  \n",
       "2      https://pta.trunojoyo.ac.id/c_search/byfac/6  \n",
       "3           https://pta.trunojoyo.ac.id/c_template/  \n",
       "4     https://pta.trunojoyo.ac.id/c_search/byprod/7  \n",
       "..                                              ...  \n",
       "592  https://pta.trunojoyo.ac.id/c_search/byprod/28  \n",
       "593          https://pta.trunojoyo.ac.id/c_contact/  \n",
       "594  https://pta.trunojoyo.ac.id/c_search/byprod/35  \n",
       "595    https://pta.trunojoyo.ac.id/c_search/byfac/1  \n",
       "596   https://pta.trunojoyo.ac.id/c_search/byprod/1  \n",
       "\n",
       "[597 rows x 2 columns]"
      ]
     },
     "execution_count": 4,
     "metadata": {},
     "output_type": "execute_result"
    }
   ],
   "source": [
    "df"
   ]
  }
 ],
 "metadata": {
  "kernelspec": {
   "display_name": "Python 3",
   "language": "python",
   "name": "python3"
  },
  "language_info": {
   "codemirror_mode": {
    "name": "ipython",
    "version": 3
   },
   "file_extension": ".py",
   "mimetype": "text/x-python",
   "name": "python",
   "nbconvert_exporter": "python",
   "pygments_lexer": "ipython3",
   "version": "3.12.1"
  }
 },
 "nbformat": 4,
 "nbformat_minor": 5
}